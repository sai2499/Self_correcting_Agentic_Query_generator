{
 "cells": [
  {
   "cell_type": "code",
   "execution_count": null,
   "id": "bdd2ecf9",
   "metadata": {},
   "outputs": [],
   "source": [
    "from langchain_community.chat_models import ChatOllama\n",
    "from langchain_groq import ChatGroq\n",
    "from langchain_core.prompts import ChatPromptTemplate\n",
    "from langchain_core.output_parsers import StrOutputParser\n",
    "from langgraph.graph import StateGraph, START, END\n",
    "from typing_extensions import TypedDict\n",
    "from IPython.display import Image, display\n",
    "from pydantic import BaseModel, Field\n",
    "import os\n",
    "from dotenv import load_dotenv\n",
    "from typing import List\n",
    "load_dotenv()"
   ]
  },
  {
   "cell_type": "markdown",
   "id": "54c71c39",
   "metadata": {},
   "source": [
    "## MODELS"
   ]
  },
  {
   "cell_type": "code",
   "execution_count": null,
   "id": "0dca2347",
   "metadata": {},
   "outputs": [],
   "source": [
    "neo4j_llm = ChatOllama(model=\"tomasonjo/llama3-text2cypher-demo\")\n",
    "sql_llm = ChatOllama(model=\"sqlcoder:7b\")\n",
    "os.environ[\"GROQ_API_KEY\"] = os.getenv(\"GROQ_API_KEY\")"
   ]
  },
  {
   "cell_type": "markdown",
   "id": "275be6a3",
   "metadata": {},
   "source": [
    "## SQL PROMPT"
   ]
  },
  {
   "cell_type": "code",
   "execution_count": null,
   "id": "c4cb5f71",
   "metadata": {},
   "outputs": [],
   "source": [
    "ddl_schema = \"\"\"CREATE TABLE users (\n",
    "user_id SERIAL PRIMARY KEY,\n",
    "name VARCHAR(100) NOT NULL,\n",
    "email VARCHAR(100) UNIQUE NOT NULL);\n",
    "\n",
    "CREATE TABLE courses (\n",
    "course_id SERIAL PRIMARY KEY,\n",
    "title VARCHAR(255) NOT NULL,\n",
    "description TEXT);\n",
    "\n",
    "CREATE TABLE instructors (\n",
    "instructor_id SERIAL PRIMARY KEY,\n",
    "name VARCHAR(100) NOT NULL,\n",
    "bio TEXT);\n",
    "\n",
    "CREATE TABLE enrollments (\n",
    "enrollment_id SERIAL PRIMARY KEY,\n",
    "user_id INT REFERENCES users(user_id),\n",
    "course_id INT REFERENCES courses(course_id),\n",
    "enrollment_date DATE NOT NULL);\n",
    "\n",
    "CREATE TABLE reviews (\n",
    "review_id SERIAL PRIMARY KEY,\n",
    "user_id INT REFERENCES users(user_id),\n",
    "course_id INT REFERENCES courses(course_id),\n",
    "rating INT CHECK (rating BETWEEN 1 AND 5),\n",
    "comment TEXT);\n",
    "\n",
    "CREATE TABLE course_instructors (\n",
    "course_id INT REFERENCES courses(course_id),\n",
    "instructor_id INT REFERENCES instructors(instructor_id),\n",
    "PRIMARY KEY (course_id, instructor_id));\"\"\""
   ]
  },
  {
   "cell_type": "markdown",
   "id": "dbe611be",
   "metadata": {},
   "source": [
    "## NEO4J Connection"
   ]
  },
  {
   "cell_type": "code",
   "execution_count": null,
   "id": "efe84603",
   "metadata": {},
   "outputs": [],
   "source": [
    "from langchain_community.graphs import Neo4jGraph\n",
    "from langchain_community.chat_models import ChatOllama\n",
    "from langchain_core.prompts import ChatPromptTemplate\n",
    "\n",
    "graph_schema = Neo4jGraph(\n",
    "    url=os.getenv(\"NEO4J_URI\"),\n",
    "    database=os.getenv(\"NEO4J_DATABASE\"),\n",
    "    username=os.getenv(\"NEO4J_USERNAME\"),\n",
    "    password=os.getenv(\"NEO4J_PASSWORD\")\n",
    ")\n",
    "\n",
    "schema = graph_schema.schema"
   ]
  },
  {
   "cell_type": "markdown",
   "id": "3e5a0510",
   "metadata": {},
   "source": [
    "## Grade SQL"
   ]
  },
  {
   "cell_type": "code",
   "execution_count": null,
   "id": "2f6e0f06",
   "metadata": {},
   "outputs": [],
   "source": [
    "llm = ChatGroq(model = \"gemma2-9b-it\")\n",
    "\n",
    "class GradeSqlQuery(BaseModel):\n",
    "    binary_score: str = Field(\n",
    "        description = \"Sql is relevant to the schema, 'yes' or 'no'\"\n",
    "    )\n",
    "    \n",
    "structured_sql = llm.with_structured_output(GradeSqlQuery)\n",
    "\n",
    "system = \"\"\"You are a strict SQL schema relevance checker.\n",
    "\n",
    "Task:\n",
    "Given:\n",
    "1. A database schema in DDL statements.\n",
    "2. A SQL statement.\n",
    "\n",
    "Rules:\n",
    "- \"Relevant\" means the SQL statement only uses table names and columns that exist in the DDL schema.\n",
    "- If it uses any table or column not present in the DDL, respond \"No\".\n",
    "- Ignore syntax errors unless they involve non-existent tables or columns.\n",
    "- Do not explain your reasoning.\n",
    "- Respond with exactly one word: Yes or No.\n",
    "\"\"\"\n",
    "\n",
    "grade_sql_prompt = ChatPromptTemplate.from_messages([\n",
    "    (\"system\", system),\n",
    "    (\"human\", \"\\nSchema (DDL):\\n{ddl_schema}\\nSQL statement:\\n{sql_statement}\")\n",
    "])\n",
    "\n",
    "sql_grader = grade_sql_prompt | structured_sql"
   ]
  },
  {
   "cell_type": "markdown",
   "id": "bb9cf69e",
   "metadata": {},
   "source": [
    "## Grade Cypher"
   ]
  },
  {
   "cell_type": "code",
   "execution_count": null,
   "id": "8831ff08",
   "metadata": {},
   "outputs": [],
   "source": [
    "class GradeCypherQuery(BaseModel):\n",
    "    binary_score: str = Field(\n",
    "        description = \"Cypher is relevant to the schema, 'yes' or 'no'\"\n",
    "    )\n",
    "    \n",
    "structured_cypher = llm.with_structured_output(GradeCypherQuery)\n",
    "\n",
    "system = \"\"\"You are given:\n",
    "1. A Neo4j database schema, including:\n",
    "   - Node labels and their properties\n",
    "   - Relationship types, their properties, and which nodes they connect\n",
    "2. A Cypher query.\n",
    "\n",
    "Your task:\n",
    "Determine if the Cypher query is relevant to the schema. \n",
    "\"Relevant\" means:\n",
    "- The query only references node labels, properties, relationship types, and relationship properties that exist in the schema.\n",
    "- The relationships used connect the correct node labels as per the schema.\n",
    "- The query is semantically valid for the given schema.\n",
    "\n",
    "Respond with exactly one word:\n",
    "- \"yes\" if the query is relevant to the schema.\n",
    "- \"no\" if it is not.\n",
    "\"\"\"\n",
    "\n",
    "grade_cypher_prompt = ChatPromptTemplate.from_messages([\n",
    "    (\"system\", system),\n",
    "    (\"human\", \"\\nSchema:\\n{cypher_schema}\\nCypher Query:\\n{cypher_query}\")\n",
    "])\n",
    "\n",
    "cypher_grader = grade_cypher_prompt | structured_cypher"
   ]
  },
  {
   "cell_type": "markdown",
   "id": "64c7bc74",
   "metadata": {},
   "source": [
    "## SQL Generation Prompt"
   ]
  },
  {
   "cell_type": "code",
   "execution_count": null,
   "id": "0e7b8396",
   "metadata": {},
   "outputs": [],
   "source": [
    "prompt_template = ChatPromptTemplate.from_template(\"\"\"\n",
    "### Instructions:\n",
    "Your task is to convert a question into a SQL query, given a Postgres database schema.\n",
    "Adhere to these rules:\n",
    "- **Deliberately go through the question and database schema word by word** to appropriately answer the question\n",
    "- **Use Table Aliases** to prevent ambiguity. For example, `SELECT table1.col1, table2.col1 FROM table1 JOIN table2 ON table1.id = table2.id`.\n",
    "- When creating a ratio, always cast the numerator as float\n",
    "- **Do not provide any explanation or text. Only output the SQL query inside a code block.**\n",
    "\n",
    "### Input:\n",
    "Generate a SQL query that answers the question `{question}`.\n",
    "This query will run on a database whose schema is represented in this string:\n",
    "{ddl_schema}\n",
    "\n",
    "### Answer\n",
    "Based on the provided database schema, here is the SQL query that answers {question}:\n",
    "\"\"\")\n",
    "\n",
    "# Chain: prompt → model → output parser\n",
    "sql_chain = prompt_template | sql_llm | StrOutputParser()"
   ]
  },
  {
   "cell_type": "markdown",
   "id": "3533ac13",
   "metadata": {},
   "source": [
    "### Cypher Generation Prompt"
   ]
  },
  {
   "cell_type": "code",
   "execution_count": null,
   "id": "ff3bcda0",
   "metadata": {},
   "outputs": [],
   "source": [
    "neo4j_prompt = ChatPromptTemplate.from_messages(\n",
    "    [\n",
    "        (\n",
    "            \"system\",\n",
    "            \"Given an input question, convert it to a Cypher query. No pre-amble.\",\n",
    "        ),\n",
    "        (\n",
    "            \"human\",\n",
    "            (\n",
    "                \"Based on the Neo4j graph schema below, write a Cypher query that would answer the user's question: \"\n",
    "                \"\\n{schema} \\nQuestion: {question} \\nCypher query:\"\n",
    "            ),\n",
    "        ),\n",
    "    ]\n",
    ")\n",
    "cypher_chain = neo4j_prompt | llm"
   ]
  },
  {
   "cell_type": "markdown",
   "id": "940b5d67",
   "metadata": {},
   "source": [
    "## SQL Regeneration Prompt"
   ]
  },
  {
   "cell_type": "code",
   "execution_count": null,
   "id": "188e41ad",
   "metadata": {},
   "outputs": [],
   "source": [
    "sql_regenerate = ChatPromptTemplate.from_template(\"\"\"The following SQL was generated:\n",
    "{previous_sql}\n",
    "\n",
    "Please regenerate the SQL so that it is correct for the given schema, fixing only the error and keeping the original intent.\n",
    "\n",
    "Schema:\n",
    "{ddl_schema}\n",
    "\n",
    "Request:\n",
    "{question}\n",
    "\n",
    "Corrected SQL:\"\"\")\n",
    "\n",
    "# Chain: prompt → model → output parser\n",
    "sql_regen_chain = sql_regenerate | sql_llm | StrOutputParser()  "
   ]
  },
  {
   "cell_type": "markdown",
   "id": "fdf54350",
   "metadata": {},
   "source": [
    "## Cypher regeneration prompt"
   ]
  },
  {
   "cell_type": "code",
   "execution_count": null,
   "id": "6f92838c",
   "metadata": {},
   "outputs": [],
   "source": [
    "cypher_regenerate = ChatPromptTemplate.from_template(\"\"\"The following Cypher was generated:\n",
    "{previous_cypher}\n",
    "\n",
    "Please regenerate the Cypher so that it is correct for the given schema, fixing only the error and keeping the original intent.\n",
    "\n",
    "Schema:\n",
    "{cypher_schema}\n",
    "\n",
    "Request:\n",
    "{question}\n",
    "\n",
    "Corrected Cypher:\"\"\")\n",
    "\n",
    "# Chain: prompt → model → output parser\n",
    "cypher_regen_chain = cypher_regenerate | neo4j_llm | StrOutputParser()  "
   ]
  },
  {
   "cell_type": "markdown",
   "id": "21196b77",
   "metadata": {},
   "source": [
    "## Connect to Neo4j and Postgres to get results"
   ]
  },
  {
   "cell_type": "code",
   "execution_count": null,
   "id": "65905388",
   "metadata": {},
   "outputs": [],
   "source": [
    "from neo4j import GraphDatabase\n",
    "import psycopg2\n",
    "import pandas as pd\n",
    "\n",
    "def cypher_connection(query):\n",
    "    url=os.getenv(\"NEO4J_URI\")\n",
    "    database=os.getenv(\"NEO4J_DATABASE\")\n",
    "    username=os.getenv(\"NEO4J_USERNAME\")\n",
    "    password=os.getenv(\"NEO4J_PASSWORD\")\n",
    "    driver = GraphDatabase.driver(url, auth=(username, password))\n",
    "    try:\n",
    "        with driver.session(database=database) as session:\n",
    "            result = session.run(query)\n",
    "            return result.values()\n",
    "    except Exception as e:\n",
    "        print(\"Error:\", e)\n",
    "    finally:\n",
    "        driver.close()\n",
    "\n",
    "def sql_connection(query):\n",
    "    host = os.getenv(\"POSTGRES_HOST\")\n",
    "    port = os.getenv(\"POSTGRES_PORT\")\n",
    "    dbname = os.getenv(\"POSTGRES_DB_NAME\")\n",
    "    user = os.getenv(\"POSTGRES_USERNAME\")\n",
    "    password = os.getenv(\"POSTGRES_PASSWORD\")\n",
    "\n",
    "    conn = psycopg2.connect(\n",
    "        host=host,\n",
    "        port=port,\n",
    "        dbname=dbname,\n",
    "        user=user,\n",
    "        password=password\n",
    "    )\n",
    "\n",
    "    cur = conn.cursor()\n",
    "    cur.execute(query)\n",
    "    tables = cur.fetchall()\n",
    "    result = [table[0] for table in tables]\n",
    "\n",
    "    # Clean up\n",
    "    cur.close()\n",
    "    conn.close()\n",
    "    return result\n"
   ]
  },
  {
   "cell_type": "markdown",
   "id": "605257f0",
   "metadata": {},
   "source": [
    "# Agentic starts here"
   ]
  },
  {
   "cell_type": "markdown",
   "id": "08371fbf",
   "metadata": {},
   "source": [
    "### Define State"
   ]
  },
  {
   "cell_type": "code",
   "execution_count": null,
   "id": "5ef63901",
   "metadata": {},
   "outputs": [],
   "source": [
    "class State(TypedDict):\n",
    "    sql_question: str\n",
    "    cypher_question: str\n",
    "    sql_stmt: str\n",
    "    cypher_stmt: str\n",
    "    cypher_ans: List\n",
    "    sql_ans: List\n",
    "    sql_regenerate: str\n",
    "    cypher_regenerate: str\n",
    "    regen_sql: str\n",
    "    regen_cypher: str"
   ]
  },
  {
   "cell_type": "markdown",
   "id": "c6513d76",
   "metadata": {},
   "source": [
    "### Node to generate SQL and Cypher"
   ]
  },
  {
   "cell_type": "code",
   "execution_count": null,
   "id": "dce93ba8",
   "metadata": {},
   "outputs": [],
   "source": [
    "def generate_sql(state):\n",
    "    print(\"======== GENERATE: SQL QUERY ========\")\n",
    "    question = state[\"sql_question\"]\n",
    "    sql_stmt = sql_chain.invoke({\"ddl_schema\": ddl_schema, \"question\": question})\n",
    "    sql_stmt = sql_stmt.replace(\"<s> \",\"\").replace(\"`\",\"\")\n",
    "    print(sql_stmt)\n",
    "    return {\"sql_stmt\": sql_stmt}\n",
    "\n",
    "def generate_neo4j(state):\n",
    "    print(\"======== GENERATE: CYPHER QUERY ========\")\n",
    "    question = state[\"cypher_question\"]\n",
    "    cypher_stmt =cypher_chain.invoke({\"question\": question, \"schema\": graph_schema.schema})\n",
    "    cypher_stmt = cypher_stmt.content\n",
    "    print(cypher_stmt)\n",
    "    return {\"cypher_stmt\":cypher_stmt}\n"
   ]
  },
  {
   "cell_type": "markdown",
   "id": "77c59044",
   "metadata": {},
   "source": [
    "### Get Postgres and Neo4j results"
   ]
  },
  {
   "cell_type": "code",
   "execution_count": null,
   "id": "b3704a42",
   "metadata": {},
   "outputs": [],
   "source": [
    "def generate_sql_res(state):\n",
    "    print(\"======== GENERATE: SQL QUERY RESULT ========\")\n",
    "    sql_stmt = state[\"sql_stmt\"]\n",
    "    sql_ans = sql_connection(state[\"sql_stmt\"])\n",
    "    return {\"sql_ans\": sql_ans}\n",
    "    \n",
    "\n",
    "def generate_cypher_res(state):\n",
    "    print(\"======== GENERATE: CYPHER QUERY RESULT ========\")\n",
    "    cypher_stmt = state[\"cypher_stmt\"]\n",
    "    cypher_ans = cypher_connection(state[\"cypher_stmt\"])\n",
    "    return { \"cypher_ans\": cypher_ans}"
   ]
  },
  {
   "cell_type": "markdown",
   "id": "481b29ef",
   "metadata": {},
   "source": [
    "### Grade the SQL and Cypher generated"
   ]
  },
  {
   "cell_type": "code",
   "execution_count": null,
   "id": "b7282df7",
   "metadata": {},
   "outputs": [],
   "source": [
    "def grade_sql_prompt(state):\n",
    "    print(\"======== GRADE: SQL QUERY ========\")\n",
    "    question = state[\"sql_question\"]\n",
    "    sql_stmt = state[\"sql_stmt\"]\n",
    "    sql_score = sql_grader.invoke({\"ddl_schema\": ddl_schema, \"sql_statement\": sql_stmt})\n",
    "    sql_grade = sql_score.binary_score\n",
    "    sql_regenerate = \"\"\n",
    "    if sql_grade == \"yes\":\n",
    "        sql_regenerate = \"no\"\n",
    "    else:\n",
    "        sql_regenerate = \"yes\"\n",
    "    print(sql_regenerate)\n",
    "    return {\"sql_regenerate\": sql_regenerate, \"sql_stmt\": sql_stmt, \"sql_question\": question}\n",
    "    \n",
    "def grade_cypher_prompt(state):\n",
    "    print(\"======== GRADE: CYPHER QUERY ========\")\n",
    "    question = state[\"cypher_question\"]\n",
    "    cypher_stmt = state[\"cypher_stmt\"]\n",
    "    cypher_score = cypher_grader.invoke({\"cypher_schema\": schema, \"cypher_query\": cypher_stmt})\n",
    "    cypher_grade = cypher_score.binary_score\n",
    "    cypher_regenerate = \"\"\n",
    "    if cypher_grade == \"yes\":\n",
    "        cypher_regenerate = \"no\"\n",
    "    else:\n",
    "        cypher_regenerate = \"yes\"\n",
    "    print(cypher_regenerate)\n",
    "    return {\"cypher_regenerate\": cypher_regenerate, \"cypher_stmt\": cypher_stmt,  \"cypher_question\": question}"
   ]
  },
  {
   "cell_type": "markdown",
   "id": "1b677e06",
   "metadata": {},
   "source": [
    "### Regenerate SQL"
   ]
  },
  {
   "cell_type": "code",
   "execution_count": null,
   "id": "aaf62ca3",
   "metadata": {},
   "outputs": [],
   "source": [
    "def regenerate_sql(state):\n",
    "    print(\"======== REGENERATE: SQL QUERY ========\")\n",
    "    question = state[\"sql_question\"]\n",
    "    sql_stmt = state[\"sql_stmt\"]\n",
    "    regen_sql = sql_regen_chain.invoke({\"previous_sql\":sql_stmt,  \"ddl_schema\": ddl_schema, \"question\": question})\n",
    "    regen_sql = regen_sql.replace(\"<s> \",\"\").replace(\"`\",\"\")\n",
    "    return {\"regen_sql\": regen_sql, \"sql_question\": question}\n",
    "    "
   ]
  },
  {
   "cell_type": "markdown",
   "id": "46f91d73",
   "metadata": {},
   "source": [
    "### Regenerate Cypher"
   ]
  },
  {
   "cell_type": "code",
   "execution_count": null,
   "id": "9e49e3f8",
   "metadata": {},
   "outputs": [],
   "source": [
    "def regenerate_cypher(state):\n",
    "    print(\"======== GENERATE: CYPHER QUERY ========\")\n",
    "    question = state[\"cypher_question\"]\n",
    "    cypher_stmt = state[\"cypher_stmt\"]\n",
    "    regen_cypher = cypher_regen_chain.invoke({\"previous_cypher\":cypher_stmt, \"question\": question, \"cypher_schema\": graph_schema.schema})\n",
    "    regen_cypher = regen_cypher.content\n",
    "    return {\"regen_cypher\": regen_cypher, \"cypher_question\": question}"
   ]
  },
  {
   "cell_type": "markdown",
   "id": "d928907a",
   "metadata": {},
   "source": [
    "### Decision to regenerate"
   ]
  },
  {
   "cell_type": "code",
   "execution_count": null,
   "id": "d0dd0008",
   "metadata": {},
   "outputs": [],
   "source": [
    "def decision_cypher(state):\n",
    "    print(\"======== DECISION: CYPHER QUERY ========\")\n",
    "    print(state[\"cypher_regenerate\"])\n",
    "    regenerate = state[\"cypher_regenerate\"]\n",
    "    if regenerate == \"yes\":\n",
    "        return \"regenerate_cypher\"\n",
    "    else:\n",
    "        return \"generate_cypher_res\"\n",
    "    \n",
    "def decision_sql(state):\n",
    "    print(\"======== GENERATE: SQL QUERY ========\")\n",
    "    print(state[\"sql_regenerate\"])\n",
    "    regenerate = state[\"sql_regenerate\"]\n",
    "    if regenerate == \"yes\":\n",
    "        return \"regenerate_sql\"\n",
    "    else:\n",
    "        return \"generate_sql_res\""
   ]
  },
  {
   "cell_type": "markdown",
   "id": "b0318121",
   "metadata": {},
   "source": [
    "### Create Nodes"
   ]
  },
  {
   "cell_type": "code",
   "execution_count": null,
   "id": "394988d1",
   "metadata": {},
   "outputs": [],
   "source": [
    "graph = StateGraph(State)\n",
    "graph.add_node(\"generate_sql\", generate_sql)\n",
    "graph.add_node(\"generate_cypher\", generate_neo4j)\n",
    "graph.add_node(\"grade_sql_prompt\", grade_sql_prompt)\n",
    "graph.add_node(\"grade_cypher_prompt\", grade_cypher_prompt)\n",
    "graph.add_node(\"generate_sql_res\",generate_sql_res)\n",
    "graph.add_node(\"generate_cypher_res\", generate_cypher_res)\n",
    "graph.add_node(\"regenerate_sql\", regenerate_sql)\n",
    "graph.add_node(\"regenerate_cypher\", regenerate_cypher)"
   ]
  },
  {
   "cell_type": "markdown",
   "id": "cd9818a0",
   "metadata": {},
   "source": [
    "### Create Edges"
   ]
  },
  {
   "cell_type": "code",
   "execution_count": null,
   "id": "fb73d3ce",
   "metadata": {},
   "outputs": [],
   "source": [
    "graph.add_edge(START, \"generate_sql\")\n",
    "graph.add_edge(START, \"generate_cypher\")\n",
    "graph.add_edge(\"generate_sql\",\"grade_sql_prompt\")\n",
    "graph.add_edge(\"generate_cypher\",\"grade_cypher_prompt\")\n",
    "graph.add_conditional_edges(\n",
    "    \"grade_sql_prompt\",\n",
    "    decision_sql,\n",
    "    {\n",
    "        \"regenerate_sql\": \"regenerate_sql\",\n",
    "        \"generate_sql_res\": \"generate_sql_res\"\n",
    "    }\n",
    ")\n",
    "graph.add_conditional_edges(\n",
    "    \"grade_cypher_prompt\",\n",
    "    decision_cypher,\n",
    "    {\n",
    "        \"regenerate_cypher\": \"regenerate_cypher\",\n",
    "        \"generate_cypher_res\": \"generate_cypher_res\"\n",
    "    }\n",
    ")\n",
    "graph.add_edge(\"regenerate_sql\", \"generate_sql_res\")\n",
    "graph.add_edge(\"regenerate_cypher\",\"generate_cypher_res\")\n",
    "graph.add_edge(\"generate_sql_res\", END)\n",
    "graph.add_edge(\"generate_cypher_res\", END)\n",
    "\n",
    "app = graph.compile()"
   ]
  },
  {
   "cell_type": "code",
   "execution_count": null,
   "id": "9fcf03d7",
   "metadata": {},
   "outputs": [],
   "source": [
    "display(Image(app.get_graph().draw_mermaid_png()))"
   ]
  },
  {
   "cell_type": "code",
   "execution_count": null,
   "id": "dfdc28ae",
   "metadata": {},
   "outputs": [],
   "source": [
    "question = \"Find top 3 most-reviewed courses\"\n",
    "results = app.invoke({\"sql_question\": question, \"cypher_question\": question})"
   ]
  },
  {
   "cell_type": "code",
   "execution_count": null,
   "id": "b8353bb6",
   "metadata": {},
   "outputs": [],
   "source": [
    "results[\"cypher_ans\"]"
   ]
  },
  {
   "cell_type": "code",
   "execution_count": null,
   "id": "c59562f1",
   "metadata": {},
   "outputs": [],
   "source": [
    "results[\"sql_ans\"]"
   ]
  }
 ],
 "metadata": {
  "kernelspec": {
   "display_name": "Python 3",
   "language": "python",
   "name": "python3"
  },
  "language_info": {
   "codemirror_mode": {
    "name": "ipython",
    "version": 3
   },
   "file_extension": ".py",
   "mimetype": "text/x-python",
   "name": "python",
   "nbconvert_exporter": "python",
   "pygments_lexer": "ipython3",
   "version": "3.13.5"
  }
 },
 "nbformat": 4,
 "nbformat_minor": 5
}
